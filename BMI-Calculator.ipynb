{
 "cells": [
  {
   "cell_type": "markdown",
   "metadata": {},
   "source": [
    "# Building a Body-Mass Index Caluclator with Python"
   ]
  },
  {
   "cell_type": "code",
   "execution_count": 1,
   "metadata": {},
   "outputs": [
    {
     "name": "stdout",
     "output_type": "stream",
     "text": [
      "Enter your name: Anil\n",
      "Enter your weight in pounds: 165\n",
      "Enter your height in inches: 79\n"
     ]
    }
   ],
   "source": [
    "name = input(\"Enter your name: \")\n",
    "\n",
    "weight = input(\"Enter your weight in pounds: \")\n",
    "\n",
    "height = input(\"Enter your height in inches: \")"
   ]
  },
  {
   "cell_type": "code",
   "execution_count": 2,
   "metadata": {},
   "outputs": [],
   "source": [
    "weight = int(weight)\n",
    "height = int(height)"
   ]
  },
  {
   "cell_type": "code",
   "execution_count": 3,
   "metadata": {},
   "outputs": [
    {
     "name": "stdout",
     "output_type": "stream",
     "text": [
      "18.58596378785451\n"
     ]
    }
   ],
   "source": [
    "BMI = (weight * 703) / (height * height)\n",
    "print(BMI)"
   ]
  },
  {
   "cell_type": "markdown",
   "metadata": {},
   "source": [
    "BMI Weight Categories\n",
    "\n",
    "Below 18.5 → Underweight\n",
    "\n",
    "Between 18.5 and 24.9 → Normal Weight\n",
    "\n",
    "Between 25 and 29.9 → Overweight\n",
    "\n",
    "Between 30 and 34.9 → Obese\n",
    "\n",
    "Between 35 and 39.9 → Severely Obese\n",
    "\n",
    "40 and above → Morbidly Obese"
   ]
  },
  {
   "cell_type": "code",
   "execution_count": 8,
   "metadata": {},
   "outputs": [
    {
     "name": "stdout",
     "output_type": "stream",
     "text": [
      "Anil, you are normal weight with a BMI of 18.58596378785451\n"
     ]
    }
   ],
   "source": [
    "if(BMI>0):\n",
    "    if(BMI<18.5):\n",
    "        print(name + \", you are underweight with a BMI of \" + str(BMI))\n",
    "    elif(BMI<25):\n",
    "        print(name + \", you are normal weight with a BMI of \" + str(BMI))\n",
    "    elif(BMI<30):\n",
    "        print(name + \", you are overweight with a BMI of \" + str(BMI))\n",
    "    elif(BMI<35):\n",
    "        print(name + \", you are obese with a BMI of \" + str(BMI))\n",
    "    elif(BMI<40):\n",
    "        print(name + \", you are severely obese with a BMI of\" + str(BMI))\n",
    "    elif(BMI>=40):\n",
    "        print(name + \", you are morbidly obese with a BMI of\" + str(BMI))\n",
    "else:\n",
    "    print(\"Invalid inputs\")"
   ]
  },
  {
   "cell_type": "code",
   "execution_count": null,
   "metadata": {},
   "outputs": [],
   "source": []
  }
 ],
 "metadata": {
  "kernelspec": {
   "display_name": "Python 3",
   "language": "python",
   "name": "python3"
  },
  "language_info": {
   "codemirror_mode": {
    "name": "ipython",
    "version": 3
   },
   "file_extension": ".py",
   "mimetype": "text/x-python",
   "name": "python",
   "nbconvert_exporter": "python",
   "pygments_lexer": "ipython3",
   "version": "3.7.6"
  }
 },
 "nbformat": 4,
 "nbformat_minor": 4
}
